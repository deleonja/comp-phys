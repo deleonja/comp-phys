{
  "nbformat": 4,
  "nbformat_minor": 0,
  "metadata": {
    "colab": {
      "name": "Clase3.ipynb",
      "provenance": [],
      "authorship_tag": "ABX9TyPs5nnnbANPGnNNHxVahVPC",
      "include_colab_link": true
    },
    "kernelspec": {
      "name": "python3",
      "display_name": "Python 3"
    }
  },
  "cells": [
    {
      "cell_type": "markdown",
      "metadata": {
        "id": "view-in-github",
        "colab_type": "text"
      },
      "source": [
        "<a href=\"https://colab.research.google.com/github/deleonja/comp-phys/blob/master/Clase3.ipynb\" target=\"_parent\"><img src=\"https://colab.research.google.com/assets/colab-badge.svg\" alt=\"Open In Colab\"/></a>"
      ]
    },
    {
      "cell_type": "markdown",
      "metadata": {
        "id": "VSXgMkSuowDj"
      },
      "source": [
        "# **Listas y ciclos II**\n",
        "Instructor: José Alfredo de León\n",
        "\n",
        "Fecha: 01.12.2020"
      ]
    },
    {
      "cell_type": "markdown",
      "metadata": {
        "id": "y4h5yqSug4_V"
      },
      "source": [
        "## **Esquema de la clase**\n",
        "\n",
        "1.   Analizando datos de una lista.\n",
        "2.   Integración numérica: el método del trapecio\n",
        "\n",
        "\n"
      ]
    },
    {
      "cell_type": "markdown",
      "metadata": {
        "id": "drdf-S9yP6xv"
      },
      "source": [
        "## **Analizando datos de una lista**"
      ]
    },
    {
      "cell_type": "markdown",
      "metadata": {
        "id": "DRz-JQ9-ql_f"
      },
      "source": [
        "El [archivo de datos](https://github.com/hplgit/scipro-primer/blob/master/src/misc/Oxford_sun_hours.txt) contiene datos del número de horas de sol en Oxford, Reino Unido, de cada mes desde enero de 1929 hasta 2009. Los datos se encuentran en el siguiente formato:\n",
        "\n",
        "\n",
        "\n",
        "```\n",
        "[\n",
        "[43.8, 60.5, 190.2, 144.7, 240.9, 210.3, 219.7, 176.3, 199.1, 109.2, 78.7, 67.0],\n",
        "[49.9, 54.3, 109.7, 102.0, 134.5, 211.2, 174.1, 207.5, 108.2, 113.5, 68.7, 23.3],\n",
        "[63.7, 72.0, 142.3, 93.5, 150.1, 158.7, 127.9, 135.5, 92.3, 102.5, 62.4, 38.5],\n",
        "...\n",
        "]\n",
        "```\n",
        "Cada lista anidada corresponde a un año de datos, y en cada lista cada entrada es la información de las horas de sol en el mes.\n"
      ]
    },
    {
      "cell_type": "markdown",
      "metadata": {
        "id": "1C1x-zOuXU8-"
      },
      "source": [
        "Utilice un programa para:\n",
        "\n",
        "A. Calcular el promedio del número de horas de sol para cada mes durante todo el período de los datos.\n",
        "\n",
        "B. ¿Qué mes tuvo el mejor clima de acuerdo con los promedios encontrados en el ejercicio anterior?\n",
        "\n",
        "C. Para cada década calcule el promedio de número de horas de sol por día en enero y diciembre. ¿Existen diferencias sustanciales entre las décadas?"
      ]
    },
    {
      "cell_type": "markdown",
      "metadata": {
        "id": "N5OE3I5gX-ja"
      },
      "source": [
        "**¿Por qué usar programación para resolver problemas como estos?**\n",
        "\n",
        "\n",
        "* son muchos datos como para hacer estos cálculos a mano\n",
        "* el procedimiento es repetitivo y qué pereza hacerlo a mano si una computadora puede hacerlo por mí.\n",
        "* no voy a aprender nada nuevo repitiendo una y otra vez el procedimiento a mano.\n",
        "\n",
        "... es práctico usar la programación a nuestro favor :D\n",
        "\n"
      ]
    },
    {
      "cell_type": "markdown",
      "metadata": {
        "id": "8FIKiFmgto8L"
      },
      "source": [
        "### **Inciso A**"
      ]
    },
    {
      "cell_type": "markdown",
      "metadata": {
        "id": "Bwqf4bqrSRc3"
      },
      "source": [
        "Calcular el promedio del número de horas de sol para cada mes durante todo el período de los datos.\n",
        "\n",
        "Algoritmo A. Entrada: datos brutos. Salida: promedio de horas para cada mes.\n",
        "\n",
        "1. Crear un arreglo de datos para guardar los promedio mensuales.\n",
        "2. Para cada mes:\n",
        "  \n",
        "  a. Sumar las horas de sol del mismo mes para todos los años -> hoursSum\n",
        "\n",
        "  b. Calcular el promedio -> hours_sum / número de años\n",
        "\n",
        "  c. Añadir al arreglo del paso 1 el promedio para dicho mes\n",
        "3. **(opcional)** Imprimir los promedios, por ej. en la salida estándar (terminal) \n",
        "\n",
        "El paso 3 es opcional porque para fines prácticos de la resolución del inciso no aporta nada, más que estética al problema. Es importante evaluar cuándo y cuándo no es necesario agregar esto último. A veces podría quitar tiempo para lo importante."
      ]
    },
    {
      "cell_type": "markdown",
      "metadata": {
        "id": "82u5ZjN_vyY_"
      },
      "source": [
        "#### **Código:**"
      ]
    },
    {
      "cell_type": "code",
      "metadata": {
        "id": "XxJ8rbKWJdhw",
        "colab": {
          "base_uri": "https://localhost:8080/"
        },
        "outputId": "c052e5d3-5936-4487-ee14-7aae7b49b40c"
      },
      "source": [
        "# Se guardan los datos en un arreglo de datos\n",
        "data = [\n",
        "[43.8, 60.5, 190.2, 144.7, 240.9, 210.3, 219.7, 176.3, 199.1, 109.2, 78.7, 67.0],\n",
        "[49.9, 54.3, 109.7, 102.0, 134.5, 211.2, 174.1, 207.5, 108.2, 113.5, 68.7, 23.3],\n",
        "[63.7, 72.0, 142.3, 93.5, 150.1, 158.7, 127.9, 135.5, 92.3, 102.5, 62.4, 38.5],\n",
        "[51.0, 57.9, 133.4, 110.9, 112.4, 199.3, 124.0, 178.3, 102.1, 100.7, 55.7, 58.0],\n",
        "[69.5, 94.3, 187.6, 152.5, 170.2, 226.9, 237.6, 242.7, 177.3, 101.3, 53.9, 59.0],\n",
        "[65.9, 96.6, 122.5, 124.9, 216.3, 192.7, 269.3, 184.9, 149.1, 81.5, 48.7, 31.3],\n",
        "[48.1, 62.0, 121.5, 127.3, 188.5, 196.3, 274.3, 199.9, 144.7, 102.6, 65.4, 48.9],\n",
        "[43.4, 89.2, 71.4, 133.2, 179.5, 166.2, 119.2, 184.7, 79.3, 103.1, 48.9, 62.3],\n",
        "[50.9, 66.6, 99.7, 103.1, 185.0, 181.3, 140.1, 202.3, 143.0, 79.1, 65.9, 41.2],\n",
        "[41.2, 66.9, 172.3, 180.9, 144.9, 190.6, 133.5, 151.3, 110.9, 118.1, 70.0, 52.4],\n",
        "[46.4, 104.9, 86.2, 171.7, 184.9, 227.9, 139.7, 153.7, 147.0, 94.3, 41.1, 46.0],\n",
        "[83.1, 22.8, 128.3, 118.1, 215.4, 273.4, 165.1, 199.5, 179.5, 95.5, 76.8, 46.5],\n",
        "[41.7, 67.9, 118.7, 106.9, 141.9, 210.3, 227.5, 163.7, 123.7, 120.2, 47.1, 46.9],\n",
        "[45.1, 53.9, 69.4, 202.5, 209.4, 234.0, 150.1, 132.7, 124.5, 84.6, 57.8, 51.0],\n",
        "[54.7, 79.3, 132.9, 166.6, 244.1, 192.9, 196.7, 178.3, 142.5, 84.9, 72.3, 49.5],\n",
        "[41.2, 62.4, 142.7, 147.0, 235.6, 170.3, 97.5, 185.2, 143.8, 102.0, 49.3, 64.1],\n",
        "[51.5, 65.7, 152.6, 209.1, 156.1, 182.4, 159.0, 144.8, 64.9, 111.7, 31.0, 46.6],\n",
        "[49.9, 78.7, 107.2, 203.3, 162.9, 149.8, 197.6, 134.8, 98.5, 79.3, 42.9, 74.7],\n",
        "[59.5, 26.3, 70.9, 150.5, 147.3, 185.9, 144.5, 274.9, 159.9, 107.3, 75.4, 37.9],\n",
        "[45.7, 92.9, 160.2, 205.2, 237.1, 124.2, 174.7, 133.7, 146.4, 93.7, 68.6, 65.4],\n",
        "[51.0, 115.1, 112.5, 182.5, 233.3, 242.1, 262.5, 210.3, 151.1, 125.0, 76.2, 65.4],\n",
        "[40.6, 67.5, 138.8, 163.7, 174.1, 244.5, 174.0, 171.1, 112.7, 96.6, 56.9, 55.3],\n",
        "[48.9, 58.6, 92.6, 200.4, 152.1, 251.9, 216.7, 174.7, 110.8, 105.6, 75.1, 69.8],\n",
        "[94.1, 96.7, 105.0, 178.2, 207.0, 217.6, 194.0, 180.5, 140.3, 105.0, 72.1, 77.7],\n",
        "[42.5, 75.9, 140.7, 183.3, 223.0, 139.7, 203.4, 237.4, 151.7, 84.1, 54.4, 28.4],\n",
        "[75.7, 79.7, 107.9, 202.4, 145.9, 157.1, 157.1, 123.5, 168.8, 94.5, 60.1, 54.5],\n",
        "[40.1, 86.3, 161.4, 173.7, 217.5, 155.3, 268.3, 188.0, 153.1, 119.7, 71.5, 47.3],\n",
        "[50.3, 78.9, 149.7, 158.7, 246.6, 145.0, 168.0, 161.4, 94.3, 116.5, 77.9, 18.2],\n",
        "[50.8, 83.1, 110.2, 168.0, 205.6, 297.1, 157.9, 170.5, 102.6, 92.9, 76.4, 62.3],\n",
        "[54.6, 55.4, 110.7, 145.2, 196.0, 145.7, 188.1, 119.6, 118.0, 93.7, 51.8, 29.5],\n",
        "[85.8, 65.5, 102.0, 153.8, 228.0, 226.3, 272.7, 245.6, 213.9, 144.2, 70.6, 45.0],\n",
        "[37.8, 82.3, 78.0, 164.9, 182.3, 274.9, 129.7, 147.1, 122.8, 60.9, 73.4, 54.5],\n",
        "[43.6, 65.1, 173.2, 86.9, 225.2, 231.2, 196.5, 185.7, 135.8, 118.2, 63.4, 76.5],\n",
        "[70.0, 70.6, 126.3, 143.3, 177.5, 280.3, 137.3, 154.5, 142.3, 108.8, 32.7, 72.6],\n",
        "[58.9, 66.4, 85.8, 119.1, 193.4, 199.4, 188.2, 142.6, 129.7, 78.8, 60.4, 49.8],\n",
        "[37.2, 57.3, 65.9, 128.5, 190.8, 156.1, 214.7, 217.7, 210.4, 134.5, 55.0, 51.1],\n",
        "[83.7, 31.1, 137.7, 141.6, 179.6, 188.7, 122.8, 181.2, 122.9, 109.9, 77.4, 71.9],\n",
        "[42.5, 41.5, 121.5, 81.5, 234.9, 199.0, 149.7, 188.6, 168.0, 90.4, 61.0, 41.7],\n",
        "[64.2, 88.2, 174.6, 130.8, 184.2, 232.0, 234.4, 167.1, 116.5, 95.1, 69.2, 70.6],\n",
        "[50.0, 54.0, 148.5, 184.5, 155.0, 206.6, 136.2, 124.0, 114.9, 66.5, 47.9, 35.9],\n",
        "[40.0, 78.1, 70.5, 221.3, 161.9, 276.9, 243.8, 157.5, 97.4, 112.0, 84.6, 35.6],\n",
        "[34.5, 115.9, 120.8, 132.7, 224.8, 270.9, 192.4, 185.6, 157.3, 106.2, 64.7, 43.8],\n",
        "[42.1, 69.5, 106.0, 122.9, 228.9, 143.5, 259.3, 134.2, 166.5, 135.2, 102.0, 29.8],\n",
        "[41.8, 27.3, 144.0, 117.6, 141.9, 150.4, 168.7, 160.9, 129.1, 91.6, 80.6, 47.6],\n",
        "[38.8, 74.1, 150.7, 167.7, 168.0, 249.5, 171.1, 192.0, 153.9, 95.1, 89.1, 62.9],\n",
        "[56.3, 58.3, 101.7, 142.1, 191.4, 206.2, 187.8, 198.7, 146.5, 105.4, 52.9, 58.8],\n",
        "[44.7, 57.8, 72.7, 131.4, 159.1, 301.0, 242.4, 218.6, 147.0, 120.7, 85.1, 34.4],\n",
        "[70.3, 42.6, 107.8, 148.7, 172.0, 261.4, 254.2, 257.4, 118.2, 43.6, 54.1, 58.6],\n",
        "[35.4, 74.4, 87.2, 157.9, 217.5, 123.2, 193.6, 123.4, 101.8, 107.3, 102.4, 45.2],\n",
        "[53.6, 58.9, 128.1, 113.6, 202.8, 171.7, 146.4, 157.4, 159.3, 87.5, 77.3, 34.3],\n",
        "[72.0, 67.3, 92.9, 126.4, 190.9, 166.6, 192.2, 167.4, 171.0, 117.0, 70.0, 59.7],\n",
        "[84.0, 58.8, 86.7, 165.4, 228.7, 186.7, 168.9, 169.0, 136.4, 111.8, 61.4, 64.4],\n",
        "[50.9, 75.3, 57.8, 110.4, 98.3, 122.8, 129.0, 199.8, 157.3, 101.9, 43.7, 57.5],\n",
        "[55.0, 33.8, 144.7, 164.4, 187.2, 148.4, 151.4, 159.8, 141.0, 66.3, 68.5, 60.4],\n",
        "[54.9, 74.0, 89.5, 150.5, 126.8, 180.3, 257.5, 214.5, 92.4, 119.7, 44.3, 62.9],\n",
        "[86.1, 66.0, 48.8, 236.8, 143.4, 244.3, 249.4, 199.8, 99.6, 88.6, 53.8, 57.6],\n",
        "[51.1, 78.0, 112.4, 138.3, 178.3, 165.0, 216.0, 164.9, 143.3, 100.8, 86.1, 44.2],\n",
        "[76.4, 71.2, 127.3, 139.6, 205.6, 222.7, 201.2, 147.0, 171.6, 119.7, 77.9, 64.8],\n",
        "[68.8, 67.8, 111.6, 158.7, 168.7, 129.3, 179.4, 158.2, 132.3, 109.5, 43.9, 42.9],\n",
        "[47.7, 103.7, 85.2, 132.0, 178.1, 142.3, 138.8, 178.8, 136.9, 120.0, 91.4, 46.7],\n",
        "[68.2, 107.0, 100.9, 133.9, 300.8, 244.4, 280.4, 269.5, 141.6, 90.8, 104.1, 26.5],\n",
        "[58.3, 95.7, 144.1, 234.4, 285.0, 121.1, 268.5, 236.6, 164.7, 124.4, 83.7, 58.8],\n",
        "[66.9, 60.0, 87.2, 156.6, 142.9, 150.0, 217.3, 241.4, 165.4, 79.4, 57.4, 58.4],\n",
        "[46.8, 67.3, 73.3, 139.2, 262.7, 212.2, 164.0, 173.6, 120.2, 101.3, 61.5, 47.2],\n",
        "[38.0, 54.7, 135.0, 111.9, 196.7, 231.4, 190.0, 238.3, 107.7, 120.0, 76.3, 55.0],\n",
        "[87.0, 77.6, 127.6, 177.7, 162.1, 254.9, 248.3, 191.8, 113.1, 137.5, 46.7, 68.2],\n",
        "[61.8, 74.9, 198.7, 190.1, 233.5, 194.4, 247.6, 285.1, 135.3, 139.9, 78.1, 40.9],\n",
        "[29.3, 103.4, 76.4, 148.3, 185.7, 290.7, 256.6, 211.6, 125.3, 130.8, 101.0, 55.5],\n",
        "[51.4, 64.2, 150.2, 189.9, 261.4, 137.1, 231.7, 172.0, 169.7, 153.8, 47.1, 55.7],\n",
        "[64.0, 113.0, 77.5, 105.8, 199.8, 114.0, 157.0, 225.0, 133.8, 94.5, 66.3, 38.1],\n",
        "[51.1, 81.3, 97.4, 147.6, 153.6, 202.1, 235.4, 159.2, 155.2, 144.8, 81.1, 60.9],\n",
        "[82.1, 104.9, 112.6, 143.4, 189.8, 164.6, 161.2, 209.4, 126.1, 83.9, 69.2, 51.9],\n",
        "[83.3, 85.0, 74.1, 148.2, 198.3, 226.8, 206.1, 184.1, 123.0, 100.9, 86.9, 79.2],\n",
        "[44.4, 80.5, 101.1, 210.0, 177.5, 163.3, 178.8, 166.2, 167.1, 104.8, 52.3, 41.3],\n",
        "[87.7, 94.4, 154.8, 169.8, 191.2, 213.6, 192.0, 228.4, 175.3, 134.8, 78.9, 53.6],\n",
        "[62.7, 79.1, 101.5, 150.3, 195.5, 223.6, 169.5, 194.1, 174.4, 102.4, 52.4, 58.3],\n",
        "[65.4, 66.3, 79.3, 136.3, 226.4, 177.6, 192.0, 235.7, 155.4, 92.0, 88.0, 55.7],\n",
        "[54.9, 73.1, 95.5, 152.5, 165.7, 246.2, 303.7, 167.2, 156.5, 109.0, 101.2, 42.7],\n",
        "[79.8, 67.6, 165.4, 210.7, 165.5, 149.0, 195.1, 209.2, 142.6, 102.5, 86.9, 57.2],\n",
        "[62.4, 124.1, 115.2, 161.2, 173.2, 223.8, 198.5, 141.8, 113.5, 132.2, 67.0, 73.5],\n",
        "[69.3, 64.5, 161.4, 168.4, 226.1, 203.3, 212.3, 190.6, 163.7, 109.7, 73.5, 61.5],\n",
        "]\n",
        "\n",
        "# 1. Crear un arreglo de datos en el cual guardar los promedio mensuales.\n",
        "month_avg = []\n",
        "years = len(data)           # number of years\n",
        "\n",
        "# 2. Para cada mes:\n",
        "for ith_month in range(12):\n",
        "# 2.a. Sumar las horas de sol del mismo mes para todos los años -> hoursSum\n",
        "  hours_sum = 0\n",
        "  for year_data in data:\n",
        "    hours_sum = hours_sum + year_data[ith_month]\n",
        "# 2.b. Calcular el promedio -> hoursSum / número de años\n",
        "  avg = hours_sum/years\n",
        "# 2.c. Añadir al arreglo del paso 1 el promedio para dicho mes\n",
        "  month_avg.append(avg)\n",
        "\n",
        "# 3. (opcional) Imprimir los promedios\n",
        "month_names = ['Enero', 'Febrero', 'Marzo', 'Abril', 'Mayo', 'Junio', 'Julio',\\\n",
        "              'Agosto', 'Septiembre', 'Octubre', 'Noviembre', 'Diciembre']\n",
        "\n",
        "for month_name, hours_avg in zip(month_names, month_avg):\n",
        "  print('%s: %.0f' %(month_name, hours_avg))"
      ],
      "execution_count": 10,
      "outputs": [
        {
          "output_type": "stream",
          "text": [
            "Enero: 57\n",
            "Febrero: 73\n",
            "Marzo: 117\n",
            "Abril: 153\n",
            "Mayo: 191\n",
            "Junio: 199\n",
            "Julio: 194\n",
            "Agosto: 184\n",
            "Septiembre: 138\n",
            "Octubre: 105\n",
            "Noviembre: 67\n",
            "Diciembre: 52\n"
          ],
          "name": "stdout"
        }
      ]
    },
    {
      "cell_type": "markdown",
      "metadata": {
        "id": "vppwuHY7Saaz"
      },
      "source": [
        "### **Inciso B**\n",
        "¿Qué mes tuvo el mejor clima de acuerdo con los promedios encontrados en el ejercicio anterior?"
      ]
    },
    {
      "cell_type": "markdown",
      "metadata": {
        "id": "0AhnMQK4Z1GE"
      },
      "source": [
        "Algoritmo B: Entrada: datos promedio de horas para cada mes. Salida: mes con más horas promedio de sol.\n",
        "1. Encontrar el valor máximo de horas de sol en promedio.\n",
        "2. (opcional) Imprimir el resultado\n",
        "\n",
        "Se podría implementar algún algoritmo de búsqueda, sin embargo este es un buen momento para hacer énfasis que **antes de implementar un algoritmo** es una buena práctica revisar si el lenguaje que se está ocupando cuenta con alguna función o método con dicho algoritmo implementado. En este caso, vamos a revisar en google si ya Python tiene alguna función que encuentre el número más grande de una lista. \n",
        "\n",
        "Colocamos \"maximum number in a list python\" en Google y la primera entrada es [esta](tutorialspoint.com/python/list_max.htm). \n",
        "\n",
        "También para encontrar el índice de una lista buscamos en Google \"index of an element in a list python\" y una de las entradas es [esta](https://www.programiz.com/python-programming/methods/list/index). "
      ]
    },
    {
      "cell_type": "markdown",
      "metadata": {
        "id": "J7uxqsrev5zI"
      },
      "source": [
        "#### **Código:**"
      ]
    },
    {
      "cell_type": "code",
      "metadata": {
        "id": "48r9Z_h5Sm_k",
        "colab": {
          "base_uri": "https://localhost:8080/"
        },
        "outputId": "993b70de-80a5-4544-eba6-be3e81ad15ce"
      },
      "source": [
        "# 1. Encontrar el valor máximo de horas de sol en promedio.\n",
        "greater_avg = max(month_avg)\n",
        "\n",
        "# 2. (opcional) Imprimir el resultado\n",
        "index = month_avg.index(greater_avg)       # index month with greater average\n",
        "print(\"%s: %.0f horas\" % (month_names[index], greater_avg))"
      ],
      "execution_count": 11,
      "outputs": [
        {
          "output_type": "stream",
          "text": [
            "Junio: 199 horas\n"
          ],
          "name": "stdout"
        }
      ]
    },
    {
      "cell_type": "markdown",
      "metadata": {
        "id": "UeTT-VaoaMCo"
      },
      "source": [
        "###  **Inciso C**\n",
        "Para cada década calcule el promedio de número de horas de sol por día en enero y diciembre. ¿Existen diferencias sustanciales entre las décadas?"
      ]
    },
    {
      "cell_type": "markdown",
      "metadata": {
        "id": "Vq0plQ48aSWv"
      },
      "source": [
        "Algoritmo C. Entrada: datos brutos. Salida: promedio de horas de sol en enero y diciembre. \n",
        "1. Crear un arreglo de datos en el cual guardar los promedios por década.\n",
        "2. Para cada década:\n",
        "\n",
        "  a. Para cada año en la década:\n",
        "\n",
        "      i. Sumar datos de enero y diciembre\n",
        "    \n",
        "  b. Calcular el promedio de horas de sol por día de la década\n",
        "  \n",
        "  c. Añadir el promedio de la década al arreglo del paso 1\n",
        "3. (opcional) Imprimir el promedio por dećada."
      ]
    },
    {
      "cell_type": "markdown",
      "metadata": {
        "id": "GaMrW3JUv8c0"
      },
      "source": [
        "#### **Código:**"
      ]
    },
    {
      "cell_type": "code",
      "metadata": {
        "id": "vbCFuA28bLGZ",
        "colab": {
          "base_uri": "https://localhost:8080/"
        },
        "outputId": "9f41736d-0dc6-4c86-9488-c4673d8f0ebc"
      },
      "source": [
        "# 1. Crear un arreglo de datos en el cual guardar los promedios por década.\n",
        "decade_mean = []\n",
        "\n",
        "# 2. Para cada década:\n",
        "for decade_start in range(1930, 2009+1, 10):\n",
        "  jan_dic_hours = 0                                   # sum of jan-dic sun hours\n",
        "# 2.a. Para cada año en la década:\n",
        "  for year in range(decade_start, decade_start+10):\n",
        "    y = year - 1929                                   # year index in data\n",
        "# 2.a.i. Sumar datos de enero y diciembre\n",
        "    jan_dic_hours = jan_dic_hours + data[y-1][1] + data[y][0]    \n",
        "# 2.b. Calcular el promedio horas de sol por día de la década\n",
        "    avg_inDecade = jan_dic_hours/(10*2*30)            \n",
        "# 2.c. Añadir el promedio de la década al arreglo del paso 1\n",
        "  decade_mean.append(avg_inDecade)\n",
        "\n",
        "# 3. (opcional) Imprimir el promedio por dećada\n",
        "for i in range(len(decade_mean)):\n",
        "  print('Década %d-%d: %.1f' % (1930+i*10, 1939+i*10, decade_mean[i]))"
      ],
      "execution_count": 12,
      "outputs": [
        {
          "output_type": "stream",
          "text": [
            "Década 1930-1939: 2.1\n",
            "Década 1940-1949: 2.0\n",
            "Década 1950-1959: 2.3\n",
            "Década 1960-1969: 1.9\n",
            "Década 1970-1979: 1.9\n",
            "Década 1980-1989: 2.2\n",
            "Década 1990-1999: 2.3\n",
            "Década 2000-2009: 2.6\n"
          ],
          "name": "stdout"
        }
      ]
    },
    {
      "cell_type": "markdown",
      "metadata": {
        "id": "opou6nghX2ie"
      },
      "source": [
        "## **Integración numérica: el método del trapecio**"
      ]
    },
    {
      "cell_type": "markdown",
      "metadata": {
        "id": "UlRwiloIG2J0"
      },
      "source": [
        "![trapezoid-rule.png](data:image/png;base64,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)"
      ]
    },
    {
      "cell_type": "markdown",
      "metadata": {
        "id": "7mqUckbi-ui9"
      },
      "source": [
        "El método del trapecio nos permite calcular numéricamente el valor de una integral definida en un intervalo $[a,b]$. La idea es aproximar el valor de una integral mediante la siguiente fórmula\n",
        "$$\\int_a^bf(x)d(x)\\approx \\sum_{i=1}^{n-1}\\frac{1}{2}h(f(x_i)+f(x_{i+1})),$$ donde $h$ es el ancho cada uno de los trapecios, $h=(b-a)/n$ y $x_i=a+ih$, $i=0,\\ldots,n$ son las coordenadas de los lados de los trapecios. La figura de abajo muestra la idea de la regla del trapecio.\n",
        "\n",
        "¿Cuál es el valor de las siguientes integrales?\n",
        "1. $$\\int_0^1e^{-x^2}dx$$\n",
        "\n",
        "2. $$\\int_0^1\\arctan(e^{x})dx$$\n",
        "\n",
        "3. $$\\int_0^{\\pi}\\cos(e^{-x})dx$$"
      ]
    },
    {
      "cell_type": "markdown",
      "metadata": {
        "id": "-OTRbgvKUU8d"
      },
      "source": [
        "**Algoritmo: método del trapecio**\n",
        "\n",
        "Implementación del método del trapecio.\n",
        "**Entrada:** límite inferior $a$, límite superior $b$, función $f$ y número de trapezoides $n$. **Salida:** Valor de la integral de $f(x)$ en $[a,b]$.\n",
        "\n",
        "1.   Definir $a$, $b$ y $n$.\n",
        "2.   Calcular el paso $h=(b-a)/n$.\n",
        "3.   Para $i=1$ hasta $i=n-1$:\n",
        "     1. Calcular $x_i=a+ih$.\n",
        "     2. Calcular $x_{i+1}=a+(i+1)h$.\n",
        "     3. Sumar $\\frac{1}{2}h\\left(f(x_i) + f(x_{i+1})\\right)$ al valor de la integral.\n",
        "4.   Imprimir el valor de la integral.\n",
        "\n"
      ]
    },
    {
      "cell_type": "markdown",
      "metadata": {
        "id": "73IA6cwqkOS6"
      },
      "source": [
        "1. $$\\int_0^1e^{-x^2}dx$$"
      ]
    },
    {
      "cell_type": "markdown",
      "metadata": {
        "id": "-E8KucgtwMN8"
      },
      "source": [
        "#### **Código:**"
      ]
    },
    {
      "cell_type": "code",
      "metadata": {
        "id": "DNFVucEE8DSe",
        "colab": {
          "base_uri": "https://localhost:8080/"
        },
        "outputId": "75e28f4d-dcfb-49b3-e775-1f1fbad40367"
      },
      "source": [
        "# Numerical integration\n",
        "# Author: José Alfredo de León \n",
        "# Date: 27.10.2020\n",
        "#\n",
        "# Program's description:\n",
        "# Implementation of trapezoidal rule. \n",
        "\n",
        "import math as m               # math functions\n",
        "\n",
        "# 1. Definitions\n",
        "a = 0                          # lower limit\n",
        "b = 1                          # lower limit\n",
        "n = 100                        # number of trapezoids\n",
        "\n",
        "# 2. Calculate the step h\n",
        "h = (b - a)/n                  \n",
        "\n",
        "# 3. Trapezoidal rule's formula\n",
        "integral = 0                   # initialization of integral value\n",
        "for i in range(1, n):\n",
        "  xi1 = a + i*h                # x_i\n",
        "  xi2 = a + (i + 1)*h          # x_{i+1}\n",
        "  integral = integral + \\\n",
        "            (1/2)*h*(m.exp(-xi1**2) + \\\n",
        "             m.exp(-xi2**2))   # sum every term\n",
        "            \n",
        "# 4. Print integral value            \n",
        "print('Integral = ' + str(integral))"
      ],
      "execution_count": 1,
      "outputs": [
        {
          "output_type": "stream",
          "text": [
            "Integral = 0.7368185014429707\n"
          ],
          "name": "stdout"
        }
      ]
    },
    {
      "cell_type": "markdown",
      "metadata": {
        "id": "3pUKhECEYdQW"
      },
      "source": [
        "2. $$\\int_0^1\\arctan(e^{x})dx$$"
      ]
    },
    {
      "cell_type": "code",
      "metadata": {
        "id": "V0fmKnOKY4uk",
        "colab": {
          "base_uri": "https://localhost:8080/"
        },
        "outputId": "4df436ec-9b74-437a-fcfa-141833354aac"
      },
      "source": [
        "# Numerical integration\n",
        "# Author: José Alfredo de León \n",
        "# Date: 27.10.2020\n",
        "#\n",
        "# Implementation of trapezoidal rule. \n",
        "\n",
        "import math as m               # math functions\n",
        "\n",
        "# 1. Definitions\n",
        "a = 0                          # lower limit\n",
        "b = 1                          # lower limit\n",
        "n = 100                        # number of trapezoids\n",
        "\n",
        "# 2. Calculate the step h\n",
        "h = (b - a)/n                  \n",
        "\n",
        "# 3. Trapezoidal rule\n",
        "integral = 0                   # initialization of integral value\n",
        "for i in range(1, n):\n",
        "  xi1 = a + i*h                # x_i\n",
        "  xi2 = a + (i + 1)*h          # x_{i+1}\n",
        "  integral = integral + \\\n",
        "            (1/2)*h*(m.atan(m.exp(xi1)) + \\\n",
        "             m.atan(m.exp(xi2)))   # sum every term\n",
        "            \n",
        "# 4. Print integral value            \n",
        "print('Integral = ' + str(integral))"
      ],
      "execution_count": 2,
      "outputs": [
        {
          "output_type": "stream",
          "text": [
            "Integral = 1.0095501353739071\n"
          ],
          "name": "stdout"
        }
      ]
    },
    {
      "cell_type": "markdown",
      "metadata": {
        "id": "Om8-pfHBkc-G"
      },
      "source": [
        "3. $$\\int_0^{\\pi}\\cos(e^{-x})dx$$"
      ]
    },
    {
      "cell_type": "code",
      "metadata": {
        "colab": {
          "base_uri": "https://localhost:8080/"
        },
        "id": "ivN8q_JElAZd",
        "outputId": "b1216aba-f9d4-431d-d473-3ef3d5081bd6"
      },
      "source": [
        "# Numerical integration\n",
        "# Author: José Alfredo de León \n",
        "# Date: 27.10.2020\n",
        "#\n",
        "# Implementation of trapezoidal rule. \n",
        "\n",
        "import math as m               # math functions\n",
        "\n",
        "# 1. Definitions\n",
        "a = 0                          # lower limit\n",
        "b = m.pi                       # lower limit\n",
        "n = 100                        # number of trapezoids\n",
        "\n",
        "# 2. Calculate the step h\n",
        "h = (b - a)/n                  \n",
        "\n",
        "# 3. Trapezoidal rule\n",
        "integral = 0                   # initialization of integral value\n",
        "for i in range(1, n):\n",
        "  xi1 = a + i*h                # x_i\n",
        "  xi2 = a + (i + 1)*h          # x_{i+1}\n",
        "  integral = integral + \\\n",
        "            (1/2)*h*(m.cos(m.exp(-xi1)) + \\\n",
        "             m.cos(m.exp(-xi2)))   # sum every term\n",
        "            \n",
        "# 4. Print integral value            \n",
        "print('Integral = ' + str(integral))"
      ],
      "execution_count": 7,
      "outputs": [
        {
          "output_type": "stream",
          "text": [
            "Integral = 2.8847999154090447\n"
          ],
          "name": "stdout"
        }
      ]
    },
    {
      "cell_type": "markdown",
      "metadata": {
        "id": "oFDn2s6TrBe2"
      },
      "source": [
        "### **Algoritmo: método del trapecio 2.0**"
      ]
    },
    {
      "cell_type": "markdown",
      "metadata": {
        "id": "9YcXnlVDIaVR"
      },
      "source": [
        "#### **No obstante, ¿cómo aseguramos que la respuesta de la integral tenga alguna presición deseada?**\n",
        "\n",
        "Un problema con esta implementación es que no tenemos cómo decidir cuántos trapecios son necesarios para alcanzar alguna precisión deseada. Veamos a continuación una solución.\n",
        "\n",
        "Sea $E$ el error en el método del trapecio. Es decir, $E$ es la diferencia entre el valor exacto de la integral y el valor cálculado utilizando el método. El objetivo es ajustar la tolerancia $\\epsilon$ y encontrar el número de trapecios $n$ tal que $E\\leq\\epsilon$. Según la literatura\n",
        "\n",
        "$$E\\leq \\frac{1}{12}(b-a)h^2\\max_{x\\in \\left[ a,b\\right] } \\lvert f''(x)\\rvert.$$\n",
        "El valor de $f''(x)$ se puede aproximar con la siguiente fórmula de diferencias finitas:\n",
        "$$f''(x)\\approx \\frac{f(x+h)-2f(x)+f(x-h)}{h^2}.$$\n",
        "\n",
        "Igualando el lado derecho de la desigualdad para $E$ a $\\epsilon$ y despejando para $h$ se tiene\n",
        "$$h=\\sqrt{12\\epsilon} \\left( (b-a)\\max_{x\\in \\left[ a,b\\right] } \\lvert f''(x)\\rvert\\right)^{-1/2}.$$\n",
        "Con $n=(b-a)/h$ el número de trapezoides adecuado para alcanzar la precisión $\\epsilon$ deseada.\n",
        "\n",
        "Ahora toca implementar este procedimiento y agregarlo al programa que ya tenemos."
      ]
    },
    {
      "cell_type": "markdown",
      "metadata": {
        "id": "Aw_Wn9jnq7IK"
      },
      "source": [
        "Implementación del método del trapecio considerando tolerencia máxima $\\epsilon$.\n",
        "**Entrada:** límite inferior $a$, límite superior $b$, función $f$, número $n$ para particionar $[a,b]$ y encontrar el máximo de $f''(x)$ y tolerancia $\\epsilon$. **Salida:** Valor de la integral de $f(x)$ en $[a,b]$.\n",
        "\n",
        "1.   Definir $a$, $b$, n y $\\epsilon$.\n",
        "2.   Para $i=0$ hasta $i=n$ hacer:\n",
        "     1. Calcular $x=a+ih$\n",
        "     2. Calcular $\\frac{f(x+h)-2f(x)+f(x-h)}{h^2}$\n",
        "     3. Guardar el resultado anterior\n",
        "3. Encontrar el máximo valor de la segunda derivada en $[a,b]$.\n",
        "2.   Calcular el paso $$h=\\sqrt{12\\epsilon} \\left( (b-a)\\max_{x\\in \\left[ a,b\\right] } \\lvert f''(x)\\rvert\\right)^{-1/2}.$$\n",
        "3.   Para $i=1$ hasta $i=n-1$ hacer:\n",
        "     1. Calcular $x_i=a+ih$.\n",
        "     2. Calcular $x_{i+1}=a+(i+1)h$.\n",
        "     3. Sumar $\\frac{1}{2}h\\left(f(x_i) + f(x_{i+1})\\right)$ al valor de la integral.\n",
        "4.   Imprimir el valor de la integral."
      ]
    },
    {
      "cell_type": "markdown",
      "metadata": {
        "id": "rnPJPQ7BwcFE"
      },
      "source": [
        "#### **Código:**"
      ]
    },
    {
      "cell_type": "code",
      "metadata": {
        "id": "sfmo5CmjHz2Q",
        "colab": {
          "base_uri": "https://localhost:8080/"
        },
        "outputId": "67936ef0-e88d-4c21-b649-60198fc4d08b"
      },
      "source": [
        "# Numerical integration 2.0\n",
        "# Author: José Alfredo de León \n",
        "# Date: 10,11.2020\n",
        "#\n",
        "# Implementation of trapezoidal rule considering tolerance. \n",
        "\n",
        "import math as m               # math functions\n",
        "\n",
        "# 1. Definitions\n",
        "a = 0                          # lower limit\n",
        "b = 1                          # lower limit\n",
        "n = 100                        # number of partitions of [a,b]\n",
        "tol = 1E-15                    # tolerance\n",
        "\n",
        "h = (b-a)/n                    # step to calculate f''(x) in [a,b]\n",
        "\n",
        "# 2. Compute second derivative in [a,b]\n",
        "sndD = []                      # list to store num. values of f''(x)           \n",
        "for i in range(0, n+1):\n",
        "  x = a + i*h\n",
        "  sndD.append(abs((m.atan(m.exp(x + h))\\\n",
        "                   - 2*m.atan(m.exp(x))\\\n",
        "                   + m.atan(m.exp(x - h)))\\\n",
        "                   /(h**2)))\n",
        "\n",
        "# 3. Find maximum value of step 2\n",
        "maxSndD = max(sndD)\n",
        "\n",
        "# 4. Compute step h with the formula\n",
        "h = m.sqrt(12*(tol))*((b-a)*maxSndD)**(-1/2)\n",
        "n = int((b - a)/h)\n",
        "\n",
        "# 5. Trapezoidal rule\n",
        "integral = 0                   # initialization of integral value\n",
        "for i in range(1, n):\n",
        "  xi1 = a + i*h                # x_i\n",
        "  xi2 = a + (i + 1)*h          # x_{i+1}\n",
        "  integral = integral + \\\n",
        "            (1/2)*h*(m.atan(m.exp(xi1)) + \\\n",
        "             m.atan(m.exp(xi2)))   # sum every term\n",
        "            \n",
        "# 6. Print integral value            \n",
        "print('Integral = ' + str(integral))"
      ],
      "execution_count": 8,
      "outputs": [
        {
          "output_type": "stream",
          "text": [
            "Integral = 1.0174303606315682\n"
          ],
          "name": "stdout"
        }
      ]
    },
    {
      "cell_type": "markdown",
      "metadata": {
        "id": "vs1CAcVYWdR4"
      },
      "source": [
        "**Limitación:** en términos prácticos es fastidioso tener que estar modificando líneas de código para colocar la función que deseamos. Sería conveniente tener una forma más práctica de modificarlo. En una de las siguientes clases veremos cómo crear funciones de Python y resolver este problema."
      ]
    },
    {
      "cell_type": "markdown",
      "metadata": {
        "id": "OJO5sqejxDc-"
      },
      "source": [
        "## **Tarea:**\n",
        "\n",
        "Del capítulo 2 del libro \"A primer on Scientific Programming with Python\"\n",
        "ejercicios 2.11, 2.13 y 2.16."
      ]
    }
  ]
}